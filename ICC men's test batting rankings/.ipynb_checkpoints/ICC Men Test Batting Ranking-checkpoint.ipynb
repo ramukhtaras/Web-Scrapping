{
 "cells": [
  {
   "cell_type": "code",
   "execution_count": null,
   "id": "62bb0c9e",
   "metadata": {},
   "outputs": [],
   "source": [
    "from bs4 import BeautifulSoup\n",
    "import requests\n",
    "from csv import writer\n",
    "import re"
   ]
  },
  {
   "cell_type": "code",
   "execution_count": null,
   "id": "43cb2860",
   "metadata": {},
   "outputs": [],
   "source": [
    "target_url = \"https://www.icc-cricket.com/rankings/mens/player-rankings/test/batting\"\n",
    "web_page = requests.get(target_url)"
   ]
  },
  {
   "cell_type": "code",
   "execution_count": null,
   "id": "48a47c3e",
   "metadata": {},
   "outputs": [],
   "source": [
    "html_source_code = BeautifulSoup(web_page.text, 'lxml')\n",
    "target_list_2to100 = html_source_code.find_all('tr', class_=\"table-body\")"
   ]
  },
  {
   "cell_type": "code",
   "execution_count": null,
   "id": "cb135cf6",
   "metadata": {},
   "outputs": [],
   "source": [
    "with open ('ICC Men Test Batting Ranking.csv','w',encoding='utf8',newline='') as f:\n",
    "  thewriter = writer(f)\n",
    "  header = ['Position', 'Player_Name', 'Team',  'Rating']\n",
    "  thewriter.writerow(header)\n",
    "\n",
    "  rank1 = html_source_code.find('span', class_='rankings-block__pos-number').text.strip()\n",
    "  player_name1 = html_source_code.find('div', class_='rankings-block__banner--name-large').text.strip()\n",
    "  nation1 = html_source_code.find('div', class_='rankings-block__banner--nationality').text.strip()\n",
    "  rtng1 = html_source_code.find('div', class_='rankings-block__banner--rating').text.strip()\n",
    "  info_1 = [rank1,player_name1,nation1,rtng1]\n",
    "  thewriter.writerow(info_1)\n",
    "\n",
    "  for item in target_list_2to100:\n",
    "    rank = item.find('span', class_='rankings-table__pos-number').text.strip()\n",
    "    player_name = item.find('td', class_='name').text.strip()\n",
    "    nation = item.find('span', class_='table-body__logo-text').text.strip()\n",
    "    rtng = item.find('td', class_='table-body__cell rating').text.strip()\n",
    "    info = [rank,player_name,nation,rtng]\n",
    "    thewriter.writerow(info)\n"
   ]
  }
 ],
 "metadata": {
  "kernelspec": {
   "display_name": "Python 3 (ipykernel)",
   "language": "python",
   "name": "python3"
  },
  "language_info": {
   "codemirror_mode": {
    "name": "ipython",
    "version": 3
   },
   "file_extension": ".py",
   "mimetype": "text/x-python",
   "name": "python",
   "nbconvert_exporter": "python",
   "pygments_lexer": "ipython3",
   "version": "3.8.12"
  }
 },
 "nbformat": 4,
 "nbformat_minor": 5
}
